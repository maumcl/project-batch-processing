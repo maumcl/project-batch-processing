{
 "cells": [
  {
   "cell_type": "code",
   "execution_count": null,
   "metadata": {
    "vscode": {
     "languageId": "plaintext"
    }
   },
   "outputs": [],
   "source": [
    "import pandas as pd\n",
    "import pyarrow.parquet as pq\n",
    "from google.cloud import storage\n",
    "\n",
    "# Initialize Google Cloud Storage client\n",
    "storage_client = storage.Client()\n",
    "\n",
    "# Define the GCS bucket and folder paths\n",
    "bucket_name = 'project-batch-processing'\n",
    "input_folder = 'processed_files/parquet_cleaned_data'\n",
    "output_folder = 'processed_files/parquet_modified_data'\n",
    "\n",
    "# List all the Parquet files in the input folder\n",
    "blobs = storage_client.list_blobs(bucket_name, prefix=input_folder)\n",
    "\n",
    "# Process each file\n",
    "for blob in blobs:\n",
    "    if blob.name.endswith('.parquet'):  # Make sure it's a Parquet file\n",
    "        input_uri = f\"gs://{bucket_name}/{blob.name}\"\n",
    "\n",
    "        # Create the output file path by replacing the input folder with the output folder\n",
    "        output_uri = blob.name.replace(input_folder, output_folder)\n",
    "\n",
    "        # Read the Parquet file into a DataFrame\n",
    "        df = pd.read_parquet(f\"gs://{bucket_name}/{blob.name}\")\n",
    "\n",
    "        # Rename the problematic column\n",
    "        df.rename(columns={'Distance(mi)': 'distance_mi',\n",
    "                  'Temperature(F)': 'temperature_f'},\n",
    "                  inplace=True)\n",
    "\n",
    "        # Save the modified DataFrame back as Parquet\n",
    "        output_path = f\"gs://{bucket_name}/{output_uri}\"\n",
    "        df.to_parquet(output_path)\n",
    "\n",
    "        print(f\"Processed and saved {output_uri}\")\n"
   ]
  }
 ],
 "metadata": {
  "language_info": {
   "name": "python"
  }
 },
 "nbformat": 4,
 "nbformat_minor": 2
}
